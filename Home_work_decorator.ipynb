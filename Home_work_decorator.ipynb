{
 "cells": [
  {
   "attachments": {},
   "cell_type": "markdown",
   "metadata": {},
   "source": [
    "1. Write a decorator that will calculate the execution time of a function."
   ]
  },
  {
   "cell_type": "code",
   "execution_count": 12,
   "metadata": {},
   "outputs": [
    {
     "name": "stdout",
     "output_type": "stream",
     "text": [
      "Execution time: 9.5367431640625e-07\n"
     ]
    },
    {
     "data": {
      "text/plain": [
       "3"
      ]
     },
     "execution_count": 12,
     "metadata": {},
     "output_type": "execute_result"
    }
   ],
   "source": [
    "import time\n",
    "\n",
    "def calculate_exc_time(func):\n",
    "    def wrapper(*args, **kwargs):\n",
    "        start_time = time.time()\n",
    "        result = func(*args, **kwargs)\n",
    "        end_time = time.time()\n",
    "        print(f\"Execution time: {end_time - start_time}\")\n",
    "        return result\n",
    "    return wrapper\n",
    "\n",
    "@calculate_exc_time\n",
    "def add(a: int, b:int) -> int:\n",
    "    return a + b\n",
    "\n",
    "add(1, 2)\n"
   ]
  },
  {
   "attachments": {},
   "cell_type": "markdown",
   "metadata": {},
   "source": [
    "2 . Write a decorator that ensures a function is only called by users with a specific role. Each function should have an user_type with a string type in kwargs\n",
    "\n",
    "    Example\n",
    "\n",
    "    ```python\n",
    "    @is_admin\n",
    "    def show_customer_receipt(user_type: str):\n",
    "        # some very dangerous operation\n",
    "\n",
    "    show_customer_receipt(user_type='user')\n",
    "    > ValueError: Permission denied\n",
    "\n",
    "    show_customer_receipt(user_type='admin')\n",
    "    > function pass as it should be\n",
    "    ```\n",
    "    "
   ]
  },
  {
   "cell_type": "code",
   "execution_count": 10,
   "metadata": {},
   "outputs": [
    {
     "name": "stdout",
     "output_type": "stream",
     "text": [
      "User type is admin\n",
      "Function pass as it should be\n"
     ]
    }
   ],
   "source": [
    "def is_admin(func):\n",
    "    def wrapper(**kwargs):\n",
    "        user_type = kwargs[\"user_type\"]\n",
    "        print(\"User type is\", user_type)\n",
    "        if user_type not in ['admin']:\n",
    "            raise ValueError('Invalid user type')\n",
    "        return func(*kwargs)\n",
    "    return wrapper\n",
    "\n",
    "@is_admin\n",
    "def show_customer_receipt(user_type: str):\n",
    "    print(\"Function pass as it should be\")\n",
    "\n",
    "show_customer_receipt(user_type='admin')"
   ]
  },
  {
   "attachments": {},
   "cell_type": "markdown",
   "metadata": {},
   "source": [
    "3. Write a decorator that wraps a function in a try-except block and print an error if any error has happened"
   ]
  },
  {
   "cell_type": "code",
   "execution_count": 13,
   "metadata": {},
   "outputs": [
    {
     "name": "stdout",
     "output_type": "stream",
     "text": [
      "{'foo': 'bar'}\n"
     ]
    }
   ],
   "source": [
    "def catch_errors(func):\n",
    "    def wrapper(*args, **kwargs):\n",
    "        try:\n",
    "            return func(*args, **kwargs)\n",
    "        except Exception as e:\n",
    "            print(f\"Found {len(e.args)} error during execution of your function: {e}\")\n",
    "            print(e.__traceback__)\n",
    "\n",
    "    return wrapper\n",
    "\n",
    "@catch_errors\n",
    "def some_func_with_risky_operation(data):\n",
    "    print(data['key'])\n",
    "\n",
    "some_func_with_risky_operation({'foo' : 'bar'})\n"
   ]
  }
 ],
 "metadata": {
  "kernelspec": {
   "display_name": "base",
   "language": "python",
   "name": "python3"
  },
  "language_info": {
   "codemirror_mode": {
    "name": "ipython",
    "version": 3
   },
   "file_extension": ".py",
   "mimetype": "text/x-python",
   "name": "python",
   "nbconvert_exporter": "python",
   "pygments_lexer": "ipython3",
   "version": "3.10.9"
  },
  "orig_nbformat": 4
 },
 "nbformat": 4,
 "nbformat_minor": 2
}
