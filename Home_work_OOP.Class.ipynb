{
 "cells": [
  {
   "cell_type": "code",
   "execution_count": null,
   "metadata": {},
   "outputs": [],
   "source": [
    "# 1. Create add method to add two countries together. \n",
    "# This method should create another country object with the name of the two countries combined and the population of the two countries added together."
   ]
  },
  {
   "cell_type": "code",
   "execution_count": 16,
   "metadata": {},
   "outputs": [
    {
     "name": "stdout",
     "output_type": "stream",
     "text": [
      "Name: Bosnia Herzegovina, Population: 15000000\n"
     ]
    }
   ],
   "source": [
    "class Country:\n",
    "    #adding custom atribute\n",
    "    def __init__(self, name: str, population : int):\n",
    "        self.name = name\n",
    "        self.population = population\n",
    "        \n",
    "    # add Method\n",
    "    def add(self, other_country):\n",
    "        return Country (self.name + \" \" + other_country.name, self.population + other_country.population)\n",
    "       \n",
    "bosnia = Country('Bosnia', 10_000_000)\n",
    "herzegovina = Country('Herzegovina', 5_000_000)\n",
    "bosnia_herzegovina = bosnia.add(herzegovina)\n",
    "\n",
    "print(f'Name: {bosnia_herzegovina.name}, Population: {bosnia_herzegovina.population}')"
   ]
  },
  {
   "cell_type": "code",
   "execution_count": 11,
   "metadata": {},
   "outputs": [
    {
     "name": "stdout",
     "output_type": "stream",
     "text": [
      "Name: Bosnia Herzegovina; Population: 15000000\n"
     ]
    }
   ],
   "source": [
    "# 2. Implement previous method with magic method\n",
    "\n",
    "class Country:\n",
    "    def __init__(self, name, population):\n",
    "        self.name = name\n",
    "        self.population = population\n",
    "        \n",
    "    # magic method\n",
    "    def __add__(self, other):\n",
    "        return Country(self.name + ' ' + other.name, self.population + other.population)\n",
    "\n",
    "        \n",
    "bosnia = Country('Bosnia', 10_000_000)\n",
    "herzegovina = Country('Herzegovina', 5_000_000)\n",
    "bosnia_herzegovina = bosnia + herzegovina\n",
    "print(f'Name: {bosnia_herzegovina.name}; Population: {bosnia_herzegovina.population}')"
   ]
  },
  {
   "cell_type": "code",
   "execution_count": null,
   "metadata": {},
   "outputs": [],
   "source": [
    "\"\"\"\n",
    "3. Create a Car class with the following attributes: brand, model, year, and speed. \n",
    "The Car class should have the following methods: accelerate, brake and display_speed. \n",
    "The accelerate method should increase the speed by 5, and the brake method should decrease the speed by 5. \n",
    "Remember that the speed cannot be negative.\n",
    "\"\"\"\n",
    "\"\"\"\n",
    "        Initializes a new Car object.\n",
    "\n",
    "        Args:\n",
    "            brand: The brand of the car.\n",
    "            model: The model of the car.\n",
    "            year: The year the car was made.\n",
    "        \"\"\""
   ]
  },
  {
   "cell_type": "code",
   "execution_count": 39,
   "metadata": {},
   "outputs": [
    {
     "name": "stdout",
     "output_type": "stream",
     "text": [
      "Initial speed: The car's speed is 100.\n",
      "Speed after acceleration: The car's speed is 110.\n",
      "Speed after braking: The car's speed is 105.\n"
     ]
    }
   ],
   "source": [
    "class Car:\n",
    "    def __init__(self, brand, model, year, speed):\n",
    "        self.brand = brand\n",
    "        self.model = model\n",
    "        self.year = year\n",
    "        self.speed = speed\n",
    "\n",
    "\n",
    "    def accelerate(self):\n",
    "        \"\"\"\n",
    "        Increases the speed of the car by 5.\n",
    "        \"\"\"\n",
    "        self.speed += 5\n",
    "\n",
    "    def brake(self):\n",
    "        \"\"\"\n",
    "        Decreases the speed of the car by 5. But if the speed is less than or equal to 0, the speed is set to 0.\n",
    "        \"\"\"\n",
    "        if self.speed >= 5:\n",
    "            self.speed -= 5\n",
    "        else:\n",
    "            self.speed = 0\n",
    "    \n",
    "    def display_speed(self): # Returns the current speed of the car.\n",
    "        return (f\"The car's speed is {self.speed}.\") \n",
    "\n",
    "# testing\n",
    "    \n",
    "my_car = Car ('BMW','x6', '2018', 100)\n",
    "\n",
    "print(f'Initial speed: {my_car.display_speed()}')\n",
    "\n",
    "\n",
    "my_car.accelerate()\n",
    "my_car.accelerate() # each line increases the speed of the car by 5\n",
    "print(f'Speed after acceleration: {my_car.display_speed()}')\n",
    "\n",
    "my_car.brake()\n",
    "print(f'Speed after braking: {my_car.display_speed()}')"
   ]
  },
  {
   "cell_type": "code",
   "execution_count": null,
   "metadata": {},
   "outputs": [],
   "source": [
    "\"\"\"\n",
    "4.(Optional) Create a Robot class with the following attributes: \n",
    "orientation (left, right, up, down), position_x, position_y. \n",
    "The Robot class should have the following methods: move, turn, and display_position. \n",
    "The move method should take a number of steps and move the robot in the direction it is currently facing. \n",
    "The turn method should take a direction (left or right) and turn the robot in that direction. \n",
    "The display_position method should print the current position of the robot.\n",
    "\"\"\""
   ]
  },
  {
   "cell_type": "code",
   "execution_count": 23,
   "metadata": {},
   "outputs": [
    {
     "name": "stdout",
     "output_type": "stream",
     "text": [
      "Start position: The robot is at position (0, 0) and is facing down.\n",
      "Robot position after moving 25 steps: The robot is at position (0, -25) and is facing down.\n",
      "Robot position after turning right: The robot is at position (0, -25) and is facing right.\n"
     ]
    }
   ],
   "source": [
    "\n",
    "ORIENTATIONS = ['up', 'right', 'down', 'left'] # constant\n",
    "\n",
    "class Robot:\n",
    "    def __init__(self, orientation, position_x, position_y):\n",
    "\n",
    "        self.position_x = position_x\n",
    "        self.position_y = position_y\n",
    "        \n",
    "        if orientation in ORIENTATIONS:\n",
    "            self.orientation = ORIENTATIONS.index(orientation)\n",
    "        else:\n",
    "            raise ValueError(\"Invalid orientation\")\n",
    "\n",
    "\n",
    "    def move(self, number_of_steps):\n",
    "        try:\n",
    "            number_of_steps = int(number_of_steps)\n",
    "\n",
    "            if number_of_steps <= 0:\n",
    "                print('The number of steps must be greater than 0.')\n",
    "                return\n",
    "            \n",
    "            if self.orientation == 0:\n",
    "                self.position_y += number_of_steps\n",
    "            elif self.orientation == 2:\n",
    "                self.position_y -= number_of_steps\n",
    "            elif self.orientation == 3:\n",
    "                self.position_x -= number_of_steps\n",
    "            elif self.orientation == 1:\n",
    "                self.position_x += number_of_steps\n",
    "                \n",
    "        except ValueError:\n",
    "            print('The number of steps must be an integer.')\n",
    "\n",
    "    def turn(self, direction):\n",
    "        if direction == 'left':\n",
    "            self.orientation = (self.orientation + 1) % 4\n",
    "        elif direction == 'right':\n",
    "            self.orientation = (self.orientation - 1) % 4\n",
    "    \n",
    "    def display_position(self):\n",
    "        return f\"The robot is at position ({self.position_x}, {self.position_y}) and is facing {ORIENTATIONS[self.orientation]}.\"\n",
    "\n",
    "my_robot = Robot('down', 0, 0)\n",
    "\n",
    "print(f'Start position: {my_robot.display_position()}')\n",
    "\n",
    "my_robot.move(25)\n",
    "print(f'Robot position after moving 25 steps: {my_robot.display_position()}')\n",
    "\n",
    "my_robot.turn('right')\n",
    "print(f'Robot position after turning right: {my_robot.display_position()}')\n"
   ]
  }
 ],
 "metadata": {
  "kernelspec": {
   "display_name": "base",
   "language": "python",
   "name": "python3"
  },
  "language_info": {
   "codemirror_mode": {
    "name": "ipython",
    "version": 3
   },
   "file_extension": ".py",
   "mimetype": "text/x-python",
   "name": "python",
   "nbconvert_exporter": "python",
   "pygments_lexer": "ipython3",
   "version": "3.10.9"
  },
  "orig_nbformat": 4
 },
 "nbformat": 4,
 "nbformat_minor": 2
}
