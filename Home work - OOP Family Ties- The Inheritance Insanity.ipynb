{
 "cells": [
  {
   "attachments": {},
   "cell_type": "markdown",
   "metadata": {},
   "source": [
    "1. Create a class Product with properties name, price, and quantity. Create a child class Book that inherits from Product and adds a property author and a method called read that prints information about the book."
   ]
  },
  {
   "cell_type": "code",
   "execution_count": 5,
   "metadata": {},
   "outputs": [],
   "source": [
    "class Product(object):\n",
    "    information = 'General informatiom'\n",
    "    \n",
    "    def __init__(self, name, price, quantity):\n",
    "        self.name = name\n",
    "        self.price = price\n",
    "        self.quantity = quantity\n",
    "\n"
   ]
  },
  {
   "cell_type": "code",
   "execution_count": 9,
   "metadata": {},
   "outputs": [
    {
     "name": "stdout",
     "output_type": "stream",
     "text": [
      "The name of the book is Infinite Game: Flexibility as Superpower in an Era of Change.\n",
      "The price of the book is 200 uah.\n",
      "The quantity of the book is 10.\n",
      "The author of the book is Simon Sinek.\n"
     ]
    }
   ],
   "source": [
    "class Book(Product):\n",
    "    information = 'Information about the author'\n",
    "    \n",
    "    def __init__(self, name, price, quantity, author):\n",
    "        super().__init__(name, price, quantity)\n",
    "        self.author = author\n",
    "\n",
    "\n",
    "    def read(self):\n",
    "        print(f'The name of the book is {self.name}.')\n",
    "        print(f'The price of the book is {self.price}.')\n",
    "        print(f'The quantity of the book is {self.quantity}.')\n",
    "        print(f'The author of the book is {self.author}.')\n",
    "\n",
    "#testing\n",
    "my_book = Book('Infinite Game: Flexibility as Superpower in an Era of Change', '200 UAH', 10, 'Simon Sinek')  \n",
    "    \n",
    "my_book.read()   "
   ]
  },
  {
   "attachments": {},
   "cell_type": "markdown",
   "metadata": {},
   "source": [
    "2. Create a class Restaurant with properties name, cuisine, and menu. The menu property should be a dictionary with keys being the dish name and values being the price. Create a child class FastFood that inherits from Restaurant and adds a property drive_thru (a boolean indicating whether the restaurant has a drive-thru or not) and a method called order which takes in the dish name and quantity and returns the total cost of the order. The method should also update the menu dictionary to subtract the ordered quantity from the available quantity. If the dish is not available or if the requested quantity is greater than the available quantity, the method should return a message indicating that the order cannot be fulfilled."
   ]
  },
  {
   "cell_type": "code",
   "execution_count": 1,
   "metadata": {},
   "outputs": [
    {
     "name": "stdout",
     "output_type": "stream",
     "text": [
      "25\n",
      "Requested quantity not available\n",
      "Dish not available\n",
      "McDonalds has a drive-thru \n"
     ]
    }
   ],
   "source": [
    "class Restaurant:\n",
    "    def __init__(self, name, cuisine, menu):\n",
    "        self.name = name\n",
    "        self.cuisine = cuisine\n",
    "        self.menu = menu\n",
    "\n",
    "class FastFood(Restaurant):\n",
    "    def __init__(self, name, cuisine, menu, drive_thru):\n",
    "        super().__init__(name, cuisine, menu)\n",
    "        self.drive_thru = drive_thru\n",
    "\n",
    "    def check_drive_thru(self):\n",
    "        if self.drive_thru:\n",
    "            print(f\"{self.name} has a drive-thru \")\n",
    "        else:\n",
    "            print(f\"Sorry, {self.name} doesn't have a drive-thru \")\n",
    "\n",
    "    def order(self, dish_name, quantity):\n",
    "        if dish_name not in self.menu:\n",
    "            return \"Dish not available\"\n",
    "\n",
    "        dish = self.menu[dish_name]\n",
    "        available_quantity = dish['quantity']\n",
    "\n",
    "        if quantity > available_quantity:\n",
    "            return \"Requested quantity not available\"\n",
    "\n",
    "        total_cost = dish['price'] * quantity\n",
    "        dish['quantity'] -= quantity  # Update available quantity\n",
    "\n",
    "        return total_cost\n",
    "\n",
    "menu = {\n",
    "    'burger': {'price': 5, 'quantity': 10},\n",
    "    'pizza': {'price': 10, 'quantity': 20},\n",
    "    'drink': {'price': 1, 'quantity': 15}\n",
    "}\n",
    "\n",
    "mc = FastFood('McDonalds', 'Fast Food', menu, True)\n",
    "\n",
    "print(mc.order('burger', 5))  # Output: 25\n",
    "print(mc.order('burger', 15))  # Output: Requested quantity not available\n",
    "print(mc.order('soup', 5))  # Output: Dish not available\n",
    "\n",
    "mc.check_drive_thru()  # Output: McDonalds has a drive-thru"
   ]
  }
 ],
 "metadata": {
  "kernelspec": {
   "display_name": "base",
   "language": "python",
   "name": "python3"
  },
  "language_info": {
   "codemirror_mode": {
    "name": "ipython",
    "version": 3
   },
   "file_extension": ".py",
   "mimetype": "text/x-python",
   "name": "python",
   "nbconvert_exporter": "python",
   "pygments_lexer": "ipython3",
   "version": "3.10.9"
  },
  "orig_nbformat": 4
 },
 "nbformat": 4,
 "nbformat_minor": 2
}
