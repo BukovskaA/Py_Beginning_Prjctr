{
 "cells": [
  {
   "cell_type": "code",
   "execution_count": 31,
   "metadata": {},
   "outputs": [
    {
     "name": "stdout",
     "output_type": "stream",
     "text": [
      "Cats with hats at the end: [2, 3, 9, 10]\n",
      "The total number of cats wearing the hats: 4\n"
     ]
    }
   ],
   "source": [
    "\n",
    "\"\"\"\"\"\n",
    "Make a function that can calculate hats with any amount of rounds and cats.\n",
    "  \n",
    "Determines which cats have hats on after x rounds.\n",
    "\n",
    "  Args:\n",
    "  num_cats: The number of cats.\n",
    "\n",
    " Returns:\n",
    " A list of the cats with hats on.\n",
    "\"\"\"\"\"\n",
    "  \n",
    "\n",
    "def hats_with_hats(num_cats, num_rounds):\n",
    "    # Creating a list representing the hats of cats, initially all True (wearing hats)\n",
    "    hats = [True] * num_cats\n",
    "\n",
    "    # Looping through each round\n",
    "    for round in range(1, num_rounds + 1):\n",
    "        # Looping through each cat\n",
    "        for cat in range(1, num_cats + 1):\n",
    "            # If the cat number is divisible by the round number, fliping the hat status\n",
    "            if cat % round == 0:\n",
    "                hats[cat - 1] = not hats[cat - 1]  # If True (hat on), it becomes False, and vice versa\n",
    "\n",
    "    # Returning a list of cat indices with hats on at the end\n",
    "    return [cat + 1 for cat, hat in enumerate(hats) if hat]\n",
    "\n",
    "\n",
    "cats = hats_with_hats(10, 4)\n",
    "\n",
    "\n",
    "# Print the indices of cats with hats on at the end\n",
    "print(\"Cats with hats at the end:\", cats)\n",
    "\n",
    "# Print the number of cats with hats on at the end\n",
    "print(\"The total number of cats wearing the hats:\",len(cats))\n"
   ]
  },
  {
   "attachments": {},
   "cell_type": "markdown",
   "metadata": {},
   "source": [
    "# Optional\n"
   ]
  },
  {
   "attachments": {},
   "cell_type": "markdown",
   "metadata": {},
   "source": [
    "The complexity of the algorithm is O(n * r), where n is the number of cats and r is the number of rounds. This is because the algorithm iterates through all the cats and rounds, and each iteration takes constant time."
   ]
  }
 ],
 "metadata": {
  "kernelspec": {
   "display_name": "base",
   "language": "python",
   "name": "python3"
  },
  "language_info": {
   "codemirror_mode": {
    "name": "ipython",
    "version": 3
   },
   "file_extension": ".py",
   "mimetype": "text/x-python",
   "name": "python",
   "nbconvert_exporter": "python",
   "pygments_lexer": "ipython3",
   "version": "3.10.9"
  },
  "orig_nbformat": 4
 },
 "nbformat": 4,
 "nbformat_minor": 2
}
